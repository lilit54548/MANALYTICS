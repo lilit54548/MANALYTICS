{
 "cells": [
  {
   "cell_type": "markdown",
   "id": "66db62bc",
   "metadata": {},
   "source": [
    "# Importing libraries"
   ]
  },
  {
   "cell_type": "code",
   "execution_count": 1,
   "id": "89334460",
   "metadata": {},
   "outputs": [
    {
     "ename": "KeyboardInterrupt",
     "evalue": "",
     "output_type": "error",
     "traceback": [
      "\u001b[0;31m---------------------------------------------------------------------------\u001b[0m",
      "\u001b[0;31mKeyboardInterrupt\u001b[0m                         Traceback (most recent call last)",
      "Cell \u001b[0;32mIn[1], line 1\u001b[0m\n\u001b[0;32m----> 1\u001b[0m \u001b[38;5;28;01mimport\u001b[39;00m \u001b[38;5;21;01mpandas\u001b[39;00m \u001b[38;5;28;01mas\u001b[39;00m \u001b[38;5;21;01mpd\u001b[39;00m\n\u001b[1;32m      2\u001b[0m \u001b[38;5;28;01mimport\u001b[39;00m \u001b[38;5;21;01mnumpy\u001b[39;00m \u001b[38;5;28;01mas\u001b[39;00m \u001b[38;5;21;01mnp\u001b[39;00m\n\u001b[1;32m      3\u001b[0m \u001b[38;5;28;01mimport\u001b[39;00m \u001b[38;5;21;01mmatplotlib\u001b[39;00m\u001b[38;5;21;01m.\u001b[39;00m\u001b[38;5;21;01mpyplot\u001b[39;00m \u001b[38;5;28;01mas\u001b[39;00m \u001b[38;5;21;01mplt\u001b[39;00m\n",
      "File \u001b[0;32m~/anaconda3/lib/python3.10/site-packages/pandas/__init__.py:11\u001b[0m\n\u001b[1;32m      9\u001b[0m \u001b[38;5;28;01mfor\u001b[39;00m _dependency \u001b[38;5;129;01min\u001b[39;00m _hard_dependencies:\n\u001b[1;32m     10\u001b[0m     \u001b[38;5;28;01mtry\u001b[39;00m:\n\u001b[0;32m---> 11\u001b[0m         \u001b[38;5;28;43m__import__\u001b[39;49m\u001b[43m(\u001b[49m\u001b[43m_dependency\u001b[49m\u001b[43m)\u001b[49m\n\u001b[1;32m     12\u001b[0m     \u001b[38;5;28;01mexcept\u001b[39;00m \u001b[38;5;167;01mImportError\u001b[39;00m \u001b[38;5;28;01mas\u001b[39;00m _e:  \u001b[38;5;66;03m# pragma: no cover\u001b[39;00m\n\u001b[1;32m     13\u001b[0m         _missing_dependencies\u001b[38;5;241m.\u001b[39mappend(\u001b[38;5;124mf\u001b[39m\u001b[38;5;124m\"\u001b[39m\u001b[38;5;132;01m{\u001b[39;00m_dependency\u001b[38;5;132;01m}\u001b[39;00m\u001b[38;5;124m: \u001b[39m\u001b[38;5;132;01m{\u001b[39;00m_e\u001b[38;5;132;01m}\u001b[39;00m\u001b[38;5;124m\"\u001b[39m)\n",
      "File \u001b[0;32m~/anaconda3/lib/python3.10/site-packages/numpy/__init__.py:151\u001b[0m\n\u001b[1;32m    149\u001b[0m \u001b[38;5;28;01mfrom\u001b[39;00m \u001b[38;5;21;01m.\u001b[39;00m \u001b[38;5;28;01mimport\u001b[39;00m fft\n\u001b[1;32m    150\u001b[0m \u001b[38;5;28;01mfrom\u001b[39;00m \u001b[38;5;21;01m.\u001b[39;00m \u001b[38;5;28;01mimport\u001b[39;00m polynomial\n\u001b[0;32m--> 151\u001b[0m \u001b[38;5;28;01mfrom\u001b[39;00m \u001b[38;5;21;01m.\u001b[39;00m \u001b[38;5;28;01mimport\u001b[39;00m random\n\u001b[1;32m    152\u001b[0m \u001b[38;5;28;01mfrom\u001b[39;00m \u001b[38;5;21;01m.\u001b[39;00m \u001b[38;5;28;01mimport\u001b[39;00m ctypeslib\n\u001b[1;32m    153\u001b[0m \u001b[38;5;28;01mfrom\u001b[39;00m \u001b[38;5;21;01m.\u001b[39;00m \u001b[38;5;28;01mimport\u001b[39;00m ma\n",
      "File \u001b[0;32m~/anaconda3/lib/python3.10/site-packages/numpy/random/__init__.py:180\u001b[0m\n\u001b[1;32m    126\u001b[0m __all__ \u001b[38;5;241m=\u001b[39m [\n\u001b[1;32m    127\u001b[0m     \u001b[38;5;124m'\u001b[39m\u001b[38;5;124mbeta\u001b[39m\u001b[38;5;124m'\u001b[39m,\n\u001b[1;32m    128\u001b[0m     \u001b[38;5;124m'\u001b[39m\u001b[38;5;124mbinomial\u001b[39m\u001b[38;5;124m'\u001b[39m,\n\u001b[0;32m   (...)\u001b[0m\n\u001b[1;32m    176\u001b[0m     \u001b[38;5;124m'\u001b[39m\u001b[38;5;124mzipf\u001b[39m\u001b[38;5;124m'\u001b[39m,\n\u001b[1;32m    177\u001b[0m ]\n\u001b[1;32m    179\u001b[0m \u001b[38;5;66;03m# add these for module-freeze analysis (like PyInstaller)\u001b[39;00m\n\u001b[0;32m--> 180\u001b[0m \u001b[38;5;28;01mfrom\u001b[39;00m \u001b[38;5;21;01m.\u001b[39;00m \u001b[38;5;28;01mimport\u001b[39;00m _pickle\n\u001b[1;32m    181\u001b[0m \u001b[38;5;28;01mfrom\u001b[39;00m \u001b[38;5;21;01m.\u001b[39;00m \u001b[38;5;28;01mimport\u001b[39;00m _common\n\u001b[1;32m    182\u001b[0m \u001b[38;5;28;01mfrom\u001b[39;00m \u001b[38;5;21;01m.\u001b[39;00m \u001b[38;5;28;01mimport\u001b[39;00m _bounded_integers\n",
      "File \u001b[0;32m~/anaconda3/lib/python3.10/site-packages/numpy/random/_pickle.py:1\u001b[0m\n\u001b[0;32m----> 1\u001b[0m \u001b[38;5;28;01mfrom\u001b[39;00m \u001b[38;5;21;01m.\u001b[39;00m\u001b[38;5;21;01mmtrand\u001b[39;00m \u001b[38;5;28;01mimport\u001b[39;00m RandomState\n\u001b[1;32m      2\u001b[0m \u001b[38;5;28;01mfrom\u001b[39;00m \u001b[38;5;21;01m.\u001b[39;00m\u001b[38;5;21;01m_philox\u001b[39;00m \u001b[38;5;28;01mimport\u001b[39;00m Philox\n\u001b[1;32m      3\u001b[0m \u001b[38;5;28;01mfrom\u001b[39;00m \u001b[38;5;21;01m.\u001b[39;00m\u001b[38;5;21;01m_pcg64\u001b[39;00m \u001b[38;5;28;01mimport\u001b[39;00m PCG64, PCG64DXSM\n",
      "File \u001b[0;32mmtrand.pyx:1\u001b[0m, in \u001b[0;36minit numpy.random.mtrand\u001b[0;34m()\u001b[0m\n",
      "File \u001b[0;32mbit_generator.pyx:38\u001b[0m, in \u001b[0;36minit numpy.random.bit_generator\u001b[0;34m()\u001b[0m\n",
      "File \u001b[0;32m<frozen importlib._bootstrap>:1027\u001b[0m, in \u001b[0;36m_find_and_load\u001b[0;34m(name, import_)\u001b[0m\n",
      "File \u001b[0;32m<frozen importlib._bootstrap>:1006\u001b[0m, in \u001b[0;36m_find_and_load_unlocked\u001b[0;34m(name, import_)\u001b[0m\n",
      "File \u001b[0;32m<frozen importlib._bootstrap>:688\u001b[0m, in \u001b[0;36m_load_unlocked\u001b[0;34m(spec)\u001b[0m\n",
      "File \u001b[0;32m<frozen importlib._bootstrap_external>:879\u001b[0m, in \u001b[0;36mexec_module\u001b[0;34m(self, module)\u001b[0m\n",
      "File \u001b[0;32m<frozen importlib._bootstrap_external>:975\u001b[0m, in \u001b[0;36mget_code\u001b[0;34m(self, fullname)\u001b[0m\n",
      "File \u001b[0;32m<frozen importlib._bootstrap_external>:1074\u001b[0m, in \u001b[0;36mget_data\u001b[0;34m(self, path)\u001b[0m\n",
      "\u001b[0;31mKeyboardInterrupt\u001b[0m: "
     ]
    }
   ],
   "source": [
    "import pandas as pd\n",
    "import numpy as np\n",
    "import matplotlib.pyplot as plt\n",
    "from lifelines import WeibullAFTFitter, LogNormalAFTFitter, LogLogisticAFTFitter, ExponentialFitter\n",
    "from lifelines.utils import k_fold_cross_validation\n",
    "import seaborn as sns\n",
    "import warnings"
   ]
  },
  {
   "cell_type": "code",
   "execution_count": null,
   "id": "fb452233",
   "metadata": {},
   "outputs": [],
   "source": [
    "warnings.filterwarnings(\"ignore\")"
   ]
  },
  {
   "cell_type": "markdown",
   "id": "0cf28583",
   "metadata": {},
   "source": [
    "# Reading and transforming the data"
   ]
  },
  {
   "cell_type": "code",
   "execution_count": null,
   "id": "b404d981",
   "metadata": {},
   "outputs": [],
   "source": [
    "data= pd.read_csv('telco.csv')\n",
    "clvdata = pd.read_csv('telco.csv')\n",
    "data.head()"
   ]
  },
  {
   "cell_type": "code",
   "execution_count": null,
   "id": "1211aef9",
   "metadata": {},
   "outputs": [],
   "source": [
    "data = data.copy()\n",
    "data.drop(['ID'], axis=1, inplace=True)\n",
    "cols = ['region', 'retire', 'marital', 'ed', 'gender', 'voice', 'internet', 'custcat', 'churn', 'forward']\n",
    "data = data.copy()\n",
    "data = pd.get_dummies(data, columns=cols, drop_first=True)\n",
    "data = data.rename(columns={'churn_Yes': 'churn'})\n",
    "data.head()"
   ]
  },
  {
   "cell_type": "markdown",
   "id": "0c8b357c",
   "metadata": {},
   "source": [
    "# Fitting AFT Models"
   ]
  },
  {
   "cell_type": "code",
   "execution_count": null,
   "id": "f7f047f7",
   "metadata": {},
   "outputs": [],
   "source": [
    "weibull_model = WeibullAFTFitter()\n",
    "log_norm_model = LogNormalAFTFitter()\n",
    "log_logistic_model = LogLogisticAFTFitter()\n"
   ]
  },
  {
   "cell_type": "markdown",
   "id": "5144c5f2",
   "metadata": {},
   "source": [
    "### Weibull "
   ]
  },
  {
   "cell_type": "code",
   "execution_count": null,
   "id": "2d9d3aab",
   "metadata": {},
   "outputs": [],
   "source": [
    "weibull = weibull_model.fit(data, duration_col='tenure', event_col='churn')\n",
    "weibull_prediction = weibull.predict_survival_function(data).T\n",
    "weibull_prediction_avg = weibull_prediction.mean()\n",
    "weibull.print_summary()"
   ]
  },
  {
   "cell_type": "markdown",
   "id": "ed5ab9db",
   "metadata": {},
   "source": [
    "### Log Normal"
   ]
  },
  {
   "cell_type": "code",
   "execution_count": null,
   "id": "5fd469a4",
   "metadata": {},
   "outputs": [],
   "source": [
    "log_norm = log_norm_model.fit(data, duration_col='tenure', event_col='churn')\n",
    "log_norm_prediction = log_norm.predict_survival_function(data).T\n",
    "log_norm_prediction_avg = log_norm_prediction.mean()\n",
    "log_norm.print_summary()"
   ]
  },
  {
   "cell_type": "markdown",
   "id": "a6a6a5a3",
   "metadata": {},
   "source": [
    "### Log Logistic"
   ]
  },
  {
   "cell_type": "code",
   "execution_count": null,
   "id": "3e633488",
   "metadata": {},
   "outputs": [],
   "source": [
    "log_logistic = log_logistic_model.fit(data, duration_col='tenure', event_col='churn')\n",
    "log_logistic_prediction = log_logistic.predict_survival_function(data).T\n",
    "log_logistic_prediction_avg = log_logistic_prediction.mean()\n",
    "log_logistic.print_summary()"
   ]
  },
  {
   "cell_type": "markdown",
   "id": "e19dc070",
   "metadata": {},
   "source": [
    "### Compare the 3 models"
   ]
  },
  {
   "cell_type": "code",
   "execution_count": null,
   "id": "c000829c",
   "metadata": {},
   "outputs": [],
   "source": [
    "plt.figure(figsize=(15,9))\n",
    "plt.plot(weibull_prediction_avg, label='Weibull')\n",
    "plt.plot(log_norm_prediction_avg, label='LogNorm')\n",
    "plt.plot(log_logistic_prediction_avg, label='LogLogistic')\n",
    "plt.show()"
   ]
  },
  {
   "cell_type": "markdown",
   "id": "f7d32eb2",
   "metadata": {},
   "source": [
    "The Akaike Information Criterion (AIC) helps to figure out how well a model works. It takes into account both the goodness of fit of the model and the number of parameters used in the model. "
   ]
  },
  {
   "cell_type": "code",
   "execution_count": null,
   "id": "956fe62d",
   "metadata": {},
   "outputs": [],
   "source": [
    "\n",
    "print(f'Log-Normal AIC: {log_norm.AIC_}')\n",
    "print(f'Log-Logistic AIC: {log_logistic.AIC_}')\n",
    "print(f'Weibull AIC: {weibull.AIC_}')\n",
    "\n",
    "scores = { 'Log-normal': log_norm.AIC_, 'Log-logistic': log_logistic.AIC_, 'Weibull': weibull.AIC_}\n",
    "print(f'\\nThe best model based on AIC scores is: \\033[1m{min(scores, key=scores.get)}\\033[0m')"
   ]
  },
  {
   "cell_type": "markdown",
   "id": "0b773dd2",
   "metadata": {},
   "source": [
    "In this case, it is the Log-Normal model, which has an AIC score of 2954.0240102517128. Lower AIC scores indicate a better balance of model fit and complexity, making the Log-Normal model the preferable choice among the three based on these scores.\n",
    "\n",
    "The complexity of the model is another important factor which is described by the number of the parameters the model has. Log-Normal and Log-Logistic models have both three parameters, while weibull has two. So, weibull model is the least complex model from these 3.\n",
    "\n",
    "\n",
    "\n",
    "> However, I will continue with Log -normal Model"
   ]
  },
  {
   "cell_type": "markdown",
   "id": "621057c0",
   "metadata": {},
   "source": [
    "# Plot"
   ]
  },
  {
   "cell_type": "markdown",
   "id": "7e1d0ed2",
   "metadata": {},
   "source": [
    "### Keep significant features"
   ]
  },
  {
   "cell_type": "markdown",
   "id": "30c4c390",
   "metadata": {},
   "source": [
    "Taking those features as significant that are 99% significant. Here is the list:"
   ]
  },
  {
   "cell_type": "code",
   "execution_count": null,
   "id": "11f6c150",
   "metadata": {},
   "outputs": [],
   "source": [
    "significant_columns = [\"address\", \"age\", \"internet_Yes\", \"marital_Unmarried\", \"tenure\", \"churn\", \"custcat_E-service\", \"custcat_Plus service\", \"custcat_Total service\"]"
   ]
  },
  {
   "cell_type": "code",
   "execution_count": null,
   "id": "c609882e",
   "metadata": {},
   "outputs": [],
   "source": [
    "\n",
    "significant_data = data[significant_columns]\n",
    "significant_data.head()"
   ]
  },
  {
   "cell_type": "code",
   "execution_count": null,
   "id": "b2f540de",
   "metadata": {},
   "outputs": [],
   "source": [
    "log_norm = log_norm_model.fit(significant_data, duration_col='tenure', event_col='churn')\n",
    "log_norm_prediction = log_norm.predict_survival_function(significant_data).T\n",
    "log_norm_prediction_avg = log_norm_prediction.mean()\n",
    "log_norm.print_summary()"
   ]
  },
  {
   "cell_type": "markdown",
   "id": "0d1c5f0d",
   "metadata": {},
   "source": [
    "# CLV"
   ]
  },
  {
   "cell_type": "code",
   "execution_count": null,
   "id": "5e9e9e54",
   "metadata": {},
   "outputs": [],
   "source": [
    "clv_data = log_norm_prediction.copy()"
   ]
  },
  {
   "cell_type": "code",
   "execution_count": null,
   "id": "0245d665",
   "metadata": {},
   "outputs": [],
   "source": [
    "margin = 1000\n",
    "sequence = range(1,len(clv_data.columns)+1)\n",
    "r = 0.1"
   ]
  },
  {
   "cell_type": "code",
   "execution_count": null,
   "id": "4d886a55",
   "metadata": {},
   "outputs": [],
   "source": [
    "for i in sequence:\n",
    "    clv_data.loc[:, i] = clv_data.loc[:, i]/((1+r/12)**(sequence[i-1]-1))"
   ]
  },
  {
   "cell_type": "code",
   "execution_count": null,
   "id": "bbec4a9c",
   "metadata": {},
   "outputs": [],
   "source": [
    "clv_data[\"CLV\"] = margin * clv_data.sum(axis = 1)\n",
    "clv_data"
   ]
  },
  {
   "cell_type": "code",
   "execution_count": null,
   "id": "8f97f6d8",
   "metadata": {},
   "outputs": [],
   "source": [
    "clvdata[\"CLV\"] = clv_data.CLV\n",
    "clvdata.head()"
   ]
  },
  {
   "cell_type": "markdown",
   "id": "cec8ccb8",
   "metadata": {},
   "source": [
    "We can see the probability of a person to remain our customer"
   ]
  },
  {
   "cell_type": "markdown",
   "id": "6cd4de1c",
   "metadata": {},
   "source": [
    "# Visualizing CLV vs. Features"
   ]
  },
  {
   "cell_type": "code",
   "execution_count": null,
   "id": "d50cce31",
   "metadata": {},
   "outputs": [],
   "source": [
    "sns.displot(data=clvdata, kind='kde', x='CLV', hue='custcat')"
   ]
  },
  {
   "cell_type": "code",
   "execution_count": null,
   "id": "cdb8165d",
   "metadata": {},
   "outputs": [],
   "source": [
    "sns.displot(data=clvdata, kind='kde', x='CLV', hue='ed')"
   ]
  },
  {
   "cell_type": "code",
   "execution_count": null,
   "id": "a0be7e79",
   "metadata": {},
   "outputs": [],
   "source": [
    "sns.displot(data=clvdata, kind='kde', x='CLV', hue='gender')"
   ]
  },
  {
   "cell_type": "code",
   "execution_count": null,
   "id": "8e9b1ce0",
   "metadata": {},
   "outputs": [],
   "source": [
    "sns.displot(data=clvdata, kind='kde', x='CLV', hue='retire')"
   ]
  },
  {
   "cell_type": "code",
   "execution_count": null,
   "id": "53c2e8a6",
   "metadata": {},
   "outputs": [],
   "source": [
    "sns.displot(data=clvdata, kind='kde', x='CLV', hue='region')"
   ]
  },
  {
   "cell_type": "code",
   "execution_count": null,
   "id": "0026df86",
   "metadata": {},
   "outputs": [],
   "source": [
    "sns.displot(data=clvdata, kind='kde', x='CLV', hue='marital')"
   ]
  },
  {
   "cell_type": "code",
   "execution_count": null,
   "id": "e4512f6f",
   "metadata": {},
   "outputs": [],
   "source": [
    "sns.displot(data=clvdata, kind='kde', x='CLV', hue='internet')"
   ]
  },
  {
   "cell_type": "code",
   "execution_count": null,
   "id": "f6a04275",
   "metadata": {},
   "outputs": [],
   "source": [
    "sns.displot(data=rclvdata, kind='kde', x='CLV', hue='forward')"
   ]
  },
  {
   "cell_type": "code",
   "execution_count": null,
   "id": "3d1f34b9",
   "metadata": {},
   "outputs": [],
   "source": [
    "sns.displot(data=clvdata, kind='kde', x='CLV', hue='voice')"
   ]
  },
  {
   "cell_type": "code",
   "execution_count": null,
   "id": "c431536e",
   "metadata": {},
   "outputs": [],
   "source": [
    "sns.displot(data=clvdata, kind='kde', x='CLV', hue='churn')"
   ]
  },
  {
   "cell_type": "code",
   "execution_count": null,
   "id": "1401df06",
   "metadata": {},
   "outputs": [],
   "source": [
    "print(clvdata.groupby([\"gender\", \"marital\", \"region\"])[[\"CLV\"]].mean())\n",
    "print(clvdata.groupby([\"voice\",\"retire\", \"ed\"] )[[\"CLV\"]].mean())\n",
    "print(clvdata.groupby(\"forward\")[[\"CLV\"]].mean())\n",
    "print(clvdata.groupby(\"internet\")[[\"CLV\"]].mean())\n",
    "print(clvdata.groupby([\"marital\", \"retire\"])[[\"CLV\"]].mean())\n",
    "print(clvdata.groupby([\"region\", \"retire\"])[[\"CLV\"]].mean())\n",
    "print(clvdata.groupby([\"custcat\", \"voice\"])[[\"CLV\"]].mean())\n",
    "print(clvdata.groupby(\"retire\")[[\"CLV\"]].mean())\n",
    "print(clvdata.groupby([\"ed\", \"marital\", \"retire\"])[[\"CLV\"]].mean())"
   ]
  },
  {
   "cell_type": "markdown",
   "id": "6210b150",
   "metadata": {},
   "source": [
    "# Conclusions"
   ]
  },
  {
   "cell_type": "markdown",
   "id": "4dbf222e",
   "metadata": {},
   "source": [
    "Analyzing the provided data reveals interesting insights into customer segments based on various demographic factors and their corresponding Customer Lifetime Value (CLV). The data is segmented by gender, marital status, region, voice service usage, retirement status, education, internet service, and customer category.\n",
    "\n",
    "- Marital Status, Gender, and Region: Married females, especially in Zone 2, show a higher CLV compared to unmarried females across all zones. For males, married ones in Zone 1 shows the highest CLV. This suggests that married individuals, particularly in certain regions, are more valuable customers.\n",
    "\n",
    "- Retirement Status and Education: Retired individuals: those who did not complete high school show high CLVs. This could be due to their stable lifestyle and possibly lower inclination to change service providers.\n",
    "\n",
    "- Voice Service and Education: Customers without voice services who have not completed high school or are retired with some college education have higher CLVs. This indicates a segment less inclined towards additional services but loyal to the basic offerings.\n",
    "\n",
    "- Internet Service: Customers without internet services have a significantly higher CLV than those with internet. This might point to issues with the internet service leading to lower satisfaction and CLV.\n",
    "\n",
    "- Retirement Impact: Non-retired individuals have a lower CLV compared to retired ones, indicating that retirees form a more loyal and valuable customer base.\n",
    "\n",
    "- Education, Marital Status, and Retirement: Segments based on education, marital status, and retirement status show varied CLVs. Notably, married individuals who did not complete high school and are retired have the highest CLV, suggesting a niche but highly valuable segment."
   ]
  },
  {
   "cell_type": "markdown",
   "id": "ae6def74",
   "metadata": {},
   "source": [
    "## Retention budget"
   ]
  },
  {
   "cell_type": "markdown",
   "id": "9929f50d",
   "metadata": {},
   "source": [
    "Taking some arbitrary values for retention rate and cost per customer"
   ]
  },
  {
   "cell_type": "code",
   "execution_count": null,
   "id": "f7a7f04d",
   "metadata": {},
   "outputs": [],
   "source": [
    "significant_data[\"CLV\"] = clv_data.CLV"
   ]
  },
  {
   "cell_type": "code",
   "execution_count": null,
   "id": "de2fbc72",
   "metadata": {},
   "outputs": [],
   "source": [
    "retained_customers = significant_data[significant_data['churn'] == 0]\n",
    "retained_clv = retained_customers['CLV'].sum()"
   ]
  },
  {
   "cell_type": "code",
   "execution_count": null,
   "id": "d3157443",
   "metadata": {},
   "outputs": [],
   "source": [
    "retention_rate = 0.8\n",
    "cost_per_customer = 5000\n",
    "retention_cost = len(significant_data) * retention_rate * cost_per_customer"
   ]
  },
  {
   "cell_type": "code",
   "execution_count": null,
   "id": "cfcde9f6",
   "metadata": {},
   "outputs": [],
   "source": [
    "annual_budget = retained_clv - retention_cost\n",
    "annual_budget"
   ]
  },
  {
   "cell_type": "markdown",
   "id": "4294df57",
   "metadata": {},
   "source": [
    "# Scaling the features"
   ]
  },
  {
   "cell_type": "markdown",
   "id": "d2196c2d",
   "metadata": {},
   "source": [
    "I will scale the data using MinMaxScaler and try the same experiment to see the differences."
   ]
  }
 ],
 "metadata": {
  "kernelspec": {
   "display_name": "Python 3 (ipykernel)",
   "language": "python",
   "name": "python3"
  },
  "language_info": {
   "codemirror_mode": {
    "name": "ipython",
    "version": 3
   },
   "file_extension": ".py",
   "mimetype": "text/x-python",
   "name": "python",
   "nbconvert_exporter": "python",
   "pygments_lexer": "ipython3",
   "version": "3.10.9"
  }
 },
 "nbformat": 4,
 "nbformat_minor": 5
}
